{
 "cells": [
  {
   "cell_type": "code",
   "execution_count": null,
   "metadata": {},
   "outputs": [],
   "source": [
    "/*\n",
    "Program to implement the multivariate linear regression model for sales prediction.\n",
    "Developed by: SRIJITH R\n",
    "RegisterNumber: 212221240054\n",
    "*/\n",
    "\n",
    "\n",
    "import pandas as pd\n",
    "import matplotlib.pyplot as plt\n",
    "df = pd.read_csv('Advertising_data.csv')\n",
    "df.head()\n",
    "df.describe()\n",
    "df.isnull().sum()\n",
    "x = df[['TV','Radio','Newspaper']]\n",
    "y = df[\"Sales\"]\n",
    "from sklearn.model_selection import train_test_split\n",
    "x_train, x_test,y_train,y_test = train_test_split(x,y,test_size=0.2, random_state=101)\n",
    "from sklearn.linear_model import LinearRegression\n",
    "l = LinearRegression()\n",
    "l.fit(x_train,y_train)\n",
    "y_pred = l.predict(x_test)\n",
    "print(\"Regression Slope: \",l.coef_[0])\n",
    "print(\"Regression Intercept:\",l.intercept_)\n",
    "from sklearn import metrics\n",
    "MSE = metrics.mean_squared_error(y_test,y_pred)\n",
    "print(\"MSE is {}\".format(MSE))\n",
    "r2 = metrics.r2_score(y_test,y_pred)\n",
    "print(\"R Squared Error is {} \".format(r2))\n",
    "l.predict([[150.3,240.5,234.5]])"
   ]
  }
 ],
 "metadata": {
  "interpreter": {
   "hash": "0f5ce66a17ee52f3924e165a47e594eea3066c4c38695c792e8035a291fe2beb"
  },
  "kernelspec": {
   "display_name": "Python 3.10.0 64-bit",
   "language": "python",
   "name": "python3"
  },
  "language_info": {
   "name": "python",
   "version": "3.10.0"
  },
  "orig_nbformat": 4
 },
 "nbformat": 4,
 "nbformat_minor": 2
}
